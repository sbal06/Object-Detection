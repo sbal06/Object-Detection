{
  "nbformat": 4,
  "nbformat_minor": 0,
  "metadata": {
    "colab": {
      "provenance": [],
      "authorship_tag": "ABX9TyNScNfWzlUuNs38//vxU/VR",
      "include_colab_link": true
    },
    "kernelspec": {
      "name": "python3",
      "display_name": "Python 3"
    },
    "language_info": {
      "name": "python"
    }
  },
  "cells": [
    {
      "cell_type": "markdown",
      "metadata": {
        "id": "view-in-github",
        "colab_type": "text"
      },
      "source": [
        "<a href=\"https://colab.research.google.com/github/sbal06/Object-Detection/blob/main/NeuralNetwork.ipynb\" target=\"_parent\"><img src=\"https://colab.research.google.com/assets/colab-badge.svg\" alt=\"Open In Colab\"/></a>"
      ]
    },
    {
      "cell_type": "code",
      "execution_count": 1,
      "metadata": {
        "colab": {
          "base_uri": "https://localhost:8080/"
        },
        "id": "Oz6FUzvVN4Hq",
        "outputId": "6982a098-3dc0-43b7-862b-2058b22062d8"
      },
      "outputs": [
        {
          "output_type": "stream",
          "name": "stdout",
          "text": [
            "TensorFlow version: 2.12.0\n"
          ]
        }
      ],
      "source": [
        "# Object Detection Project\n",
        "# resnet50 model (keep this in mind)\n",
        "#change the name of the project\n",
        "#@title Run this to download data and prepare our environment! { display-mode: \"form\" }\n",
        "import os\n",
        "import pandas as pd\n",
        "import seaborn as sns\n",
        "import numpy as np\n",
        "import matplotlib.pyplot as plt\n",
        "import tensorflow as tf\n",
        "from keras.datasets import cifar10\n",
        "import collections\n",
        "import seaborn as sns\n",
        "from keras.utils import to_categorical\n",
        "from tensorflow import keras\n",
        "from keras.models import Sequential\n",
        "from keras.layers import Activation, Dense, Dropout, Flatten\n",
        "from keras.optimizers import Adam, SGD\n",
        "\n",
        "print(\"TensorFlow version: {}\".format(tf.__version__))\n",
        "\n",
        "# Load data\n",
        "def load_cifar10():\n",
        "  (x_train_cifar, y_train_cifar), (x_test_cifar, y_test_cifar) = cifar10.load_data()\n",
        "  y_train_cifar = y_train_cifar.squeeze()\n",
        "  y_test_cifar = y_test_cifar.squeeze()\n",
        "  return (x_train_cifar, y_train_cifar), (x_test_cifar, y_test_cifar)\n",
        "\n",
        "# CIFAR100 classes\n",
        "idx_to_class = ['background', 'car', 'truck']\n",
        "\n",
        "# Construct vehicle dataset from CIFAR10\n",
        "def construct_vehicle_dataset(data, labels, images_per_class, label_car=1, label_truck=9):\n",
        "  mask_car = labels == label_car\n",
        "  mask_truck = labels == label_truck\n",
        "\n",
        "  mask_vehicles = mask_car | mask_truck\n",
        "  mask_background = np.invert(mask_vehicles)\n",
        "\n",
        "  data_car = data[mask_car]\n",
        "  data_truck = data[mask_truck]\n",
        "  data_background = data[mask_background][:images_per_class]\n",
        "\n",
        "  new_data = np.vstack((data_background, data_car, data_truck))\n",
        "  new_labels = np.repeat(np.array([0, 1, 2]), images_per_class, axis=0)\n",
        "\n",
        "  return new_data, new_labels\n",
        "\n",
        "def load_vehicle_dataset():\n",
        "  (x_train_cifar, y_train_cifar), (x_test_cifar, y_test_cifar) = load_cifar10()\n",
        "  x_train, y_train = construct_vehicle_dataset(x_train_cifar, y_train_cifar, 5000)\n",
        "  x_test, y_test = construct_vehicle_dataset(x_test_cifar, y_test_cifar, 1000)\n",
        "  return (x_train, y_train), (x_test, y_test)\n",
        "\n",
        "# Helper functions\n",
        "\n",
        "# plotting\n",
        "def plot_one_image(data, labels = [], index = None, image_shape = None):\n",
        "  '''\n",
        "  if data is a single image, display that image\n",
        "\n",
        "  if data is a 4d stack of images, display that image\n",
        "  '''\n",
        "  ### cv2.imshow('image', data)\n",
        "  num_dims   = len(data.shape)\n",
        "  num_labels = len(labels)\n",
        "  if image_shape is not None:\n",
        "    target_shape = image_shape\n",
        "  else:\n",
        "    target_shape = (32, 32, 3)\n",
        "  # reshape data if necessary\n",
        "  if num_dims == 1:\n",
        "    data = data.reshape(target_shape)\n",
        "  if num_dims == 2:\n",
        "    data = data.reshape(np.vstack[-1, image_shape])\n",
        "  num_dims   = len(data.shape)\n",
        "\n",
        "  # check if single or multiple images\n",
        "  if num_dims == 3:\n",
        "    if num_labels > 1:\n",
        "      print('Multiple labels does not make sense for single image.')\n",
        "      return\n",
        "\n",
        "    label = labels\n",
        "    if num_labels == 0:\n",
        "      label = ''\n",
        "    image = data\n",
        "\n",
        "  if num_dims == 4:\n",
        "    image = data[index, :]\n",
        "    label = labels[index]\n",
        "\n",
        "  # plot image of interest\n",
        "  print('Label: %s'%label)\n",
        "  plt.imshow(image)\n",
        "  plt.show()\n",
        "\n",
        "def model_to_string(model):\n",
        "  import re\n",
        "  stringlist = []\n",
        "  model.summary(print_fn=lambda x: stringlist.append(x))\n",
        "  sms = \"\\n\".join(stringlist)\n",
        "  sms = re.sub('_\\d\\d\\d','', sms)\n",
        "  sms = re.sub('_\\d\\d','', sms)\n",
        "  sms = re.sub('_\\d','', sms)\n",
        "  return sms\n",
        "\n",
        "def normalize(data):\n",
        "  # CIFAR100 mean (0.4914, 0.4822, 0.4465) std (0.2023, 0.1994, 0.2010)\n",
        "  return (data/255-np.array((0.4914, 0.4822, 0.4465))) / np.array((0.2023, 0.1994, 0.2010))\n",
        "\n",
        "def label_to_onehot(labels):\n",
        "  final_labels = np.zeros((len(labels), 3))\n",
        "  for i in range(len(labels)):\n",
        "    label = labels[i]\n",
        "    if label == 0:\n",
        "      final_labels[i,:] = np.array([1, 0, 0])\n",
        "    if label == 1:\n",
        "      final_labels[i,:] = np.array([0, 1, 0])\n",
        "    if label == 2:\n",
        "      final_labels[i,:] = np.array([0, 0, 1])\n",
        "  return final_labels\n",
        "\n",
        "def plot_acc(history, ax = None, xlabel = 'Epoch #'):\n",
        "  # i'm sorry for this function's code. i am so sorry.\n",
        "  history = history.history\n",
        "  history.update({'epoch':list(range(len(history['val_accuracy'])))})\n",
        "  history = pd.DataFrame.from_dict(history)\n",
        "\n",
        "  best_epoch = history.sort_values(by = 'val_accuracy', ascending = False).iloc[0]['epoch']\n",
        "\n",
        "  if not ax:\n",
        "    f, ax = plt.subplots(1,1)\n",
        "  sns.lineplot(x = 'epoch', y = 'val_accuracy', data = history, label = 'Validation', ax = ax)\n",
        "  sns.lineplot(x = 'epoch', y = 'accuracy', data = history, label = 'Training', ax = ax)\n",
        "  ax.axhline(0.333, linestyle = '--',color='red', label = 'Chance')\n",
        "  ax.axvline(x = best_epoch, linestyle = '--', color = 'green', label = 'Best Epoch')\n",
        "  ax.legend(loc = 1)\n",
        "  ax.set_ylim([0.01, 1])\n",
        "  ax.set_xlabel(xlabel)\n",
        "  ax.set_ylabel('Accuracy (Fraction)')\n",
        "\n",
        "  plt.show()"
      ]
    },
    {
      "cell_type": "code",
      "source": [
        "# Load the data\n",
        "(X_train, y_train), (X_test, y_test) = load_vehicle_dataset()\n",
        "\n",
        "# each integer corresponds to a label\n",
        "for i, label in enumerate(idx_to_class):\n",
        "  print(str(i) + \" - \" + str(label))\n",
        "\n",
        "classes = ['background', 'car', 'truck']\n",
        "print(y_train)\n",
        "\n",
        "print(X_train.shape)\n",
        "print(X_test.shape)\n",
        "print(y_train.shape)\n"
      ],
      "metadata": {
        "colab": {
          "base_uri": "https://localhost:8080/"
        },
        "id": "xlWuaUo2N8Uo",
        "outputId": "e8bd97da-daee-4c14-a6cb-3d0708ee0052"
      },
      "execution_count": 2,
      "outputs": [
        {
          "output_type": "stream",
          "name": "stdout",
          "text": [
            "Downloading data from https://www.cs.toronto.edu/~kriz/cifar-10-python.tar.gz\n",
            "170498071/170498071 [==============================] - 6s 0us/step\n",
            "0 - background\n",
            "1 - car\n",
            "2 - truck\n",
            "[0 0 0 ... 2 2 2]\n",
            "(15000, 32, 32, 3)\n",
            "(3000, 32, 32, 3)\n",
            "(15000,)\n"
          ]
        }
      ]
    },
    {
      "cell_type": "code",
      "source": [
        "\n",
        "# check if the dataset is balanced using plot\n",
        "y_train_cat = to_categorical(y_train, 3)\n",
        "y_test_cat = to_categorical(y_test, 3)\n",
        "plot = sns.countplot(y_train_cat)\n",
        "plot.set_xticklabels(idx_to_class, rotation = 45)\n",
        "print(y_train_cat.shape)"
      ],
      "metadata": {
        "colab": {
          "base_uri": "https://localhost:8080/",
          "height": 501
        },
        "id": "iuSBDZmfODdC",
        "outputId": "fc39030a-9d80-4c55-ea1f-18bed799e9ef"
      },
      "execution_count": 6,
      "outputs": [
        {
          "output_type": "stream",
          "name": "stdout",
          "text": [
            "(15000, 3)\n"
          ]
        },
        {
          "output_type": "display_data",
          "data": {
            "text/plain": [
              "<Figure size 640x480 with 1 Axes>"
            ],
            "image/png": "[encoded data removed]"
          },
          "metadata": {}
        }
      ]
    },
    {
      "cell_type": "code",
      "source": [
        "# Plot an image from the training data\n",
        "def showImage(image_array):\n",
        "  plt.imshow(image_array)\n",
        "  plt.axis('off')\n",
        "  plt.title(classes[y_train[var]])\n",
        "  plt.show()\n",
        "var = 2\n",
        "print(showImage(X_train[var]))"
      ],
      "metadata": {
        "colab": {
          "base_uri": "https://localhost:8080/",
          "height": 445
        },
        "id": "wPoUc4s5OD66",
        "outputId": "2e23d17d-30e4-4685-dd88-0111406d084a"
      },
      "execution_count": 5,
      "outputs": [
        {
          "output_type": "display_data",
          "data": {
            "text/plain": [
              "<Figure size 640x480 with 1 Axes>"
            ],
            "image/png": "[encoded data removed]"
          },
          "metadata": {}
        },
        {
          "output_type": "stream",
          "name": "stdout",
          "text": [
            "None\n"
          ]
        }
      ]
    },
    {
      "cell_type": "markdown",
      "source": [
        "## **Simple Neural Network for images**\n",
        "![](http://cs231n.github.io/assets/nn1/neural_net.jpeg)\n",
        "\n",
        "Let's try to build a simple neural network to train the images. The architecture of a neural network is shown above.\n"
      ],
      "metadata": {
        "id": "FS4hhRdSWkyT"
      }
    },
    {
      "cell_type": "code",
      "source": [
        "\n",
        "\n",
        "y_one_hot_train = to_categorical(y_train)\n",
        "y_one_hot_test = to_categorical(y_test)\n",
        "\n",
        "X_train_re = np.reshape(X_train, (15000, -1))   # Two-dimensional (15000, 3072)\n",
        "X_test_re = np.reshape(X_test, (3000, -1))\n",
        "\n",
        "model = Sequential()\n",
        "model.add(Dense(1024, input_shape = (3072, ), activation = 'relu'))     # shape (3072, ) not (32, 32, 3)\n",
        "model.add(Dropout(0.1))\n",
        "model.add(Dense(512, activation = 'relu'))\n",
        "model.add(Dropout(0.1))\n",
        "model.add(Dense(512, activation = 'relu'))\n",
        "model.add(Flatten())\n",
        "model.add(Dense(3, activation = 'softmax'))\n",
        "\n",
        "optimizer = SGD(learning_rate = 1e-3, momentum = 0.9)\n",
        "optimizer = 'adam'\n",
        "model.compile(optimizer = optimizer, loss = 'categorical_crossentropy', metrics = ['accuracy'])\n",
        "\n",
        "epochs = 12\n",
        "simple_history = model.fit(X_train_re, y_one_hot_train, epochs = epochs, validation_data = (X_test_re, y_one_hot_test), shuffle = True)\n",
        "\n",
        "_, test_accuracy = model.evaluate(X_test_re, y_one_hot_test, verbose = 1)"
      ],
      "metadata": {
        "colab": {
          "base_uri": "https://localhost:8080/"
        },
        "id": "-PGVJC-XX8jz",
        "outputId": "f8c9b8f8-9679-485a-a9f2-5f3593a4fb3a"
      },
      "execution_count": 9,
      "outputs": [
        {
          "output_type": "stream",
          "name": "stdout",
          "text": [
            "Epoch 1/12\n",
            "469/469 [==============================] - 50s 97ms/step - loss: 26.6193 - accuracy: 0.4264 - val_loss: 1.0556 - val_accuracy: 0.4917\n",
            "Epoch 2/12\n",
            "469/469 [==============================] - 34s 72ms/step - loss: 1.2295 - accuracy: 0.4227 - val_loss: 1.1015 - val_accuracy: 0.3437\n",
            "Epoch 3/12\n",
            "469/469 [==============================] - 33s 71ms/step - loss: 1.1029 - accuracy: 0.3409 - val_loss: 1.0886 - val_accuracy: 0.3590\n",
            "Epoch 4/12\n",
            "469/469 [==============================] - 35s 74ms/step - loss: 1.0917 - accuracy: 0.3513 - val_loss: 1.1056 - val_accuracy: 0.3347\n",
            "Epoch 5/12\n",
            "469/469 [==============================] - 32s 69ms/step - loss: 1.0999 - accuracy: 0.3447 - val_loss: 1.0984 - val_accuracy: 0.3353\n",
            "Epoch 6/12\n",
            "469/469 [==============================] - 36s 78ms/step - loss: 1.1001 - accuracy: 0.3294 - val_loss: 1.1240 - val_accuracy: 0.3530\n",
            "Epoch 7/12\n",
            "469/469 [==============================] - 36s 77ms/step - loss: 1.1075 - accuracy: 0.3351 - val_loss: 1.0987 - val_accuracy: 0.3327\n",
            "Epoch 8/12\n",
            "469/469 [==============================] - 33s 70ms/step - loss: 1.0983 - accuracy: 0.3319 - val_loss: 1.0991 - val_accuracy: 0.3323\n",
            "Epoch 9/12\n",
            "469/469 [==============================] - 34s 73ms/step - loss: 1.0988 - accuracy: 0.3281 - val_loss: 1.0990 - val_accuracy: 0.3323\n",
            "Epoch 10/12\n",
            "469/469 [==============================] - 34s 73ms/step - loss: 1.0987 - accuracy: 0.3324 - val_loss: 1.0993 - val_accuracy: 0.3323\n",
            "Epoch 11/12\n",
            "469/469 [==============================] - 34s 71ms/step - loss: 1.0987 - accuracy: 0.3329 - val_loss: 1.0990 - val_accuracy: 0.3327\n",
            "Epoch 12/12\n",
            "469/469 [==============================] - 33s 71ms/step - loss: 1.0987 - accuracy: 0.3351 - val_loss: 1.0992 - val_accuracy: 0.3333\n",
            "94/94 [==============================] - 1s 11ms/step - loss: 1.0992 - accuracy: 0.3333\n"
          ]
        }
      ]
    },
    {
      "cell_type": "code",
      "source": [
        "plot_acc(simple_history)"
      ],
      "metadata": {
        "colab": {
          "base_uri": "https://localhost:8080/",
          "height": 455
        },
        "id": "LyPjIqCh2j-v",
        "outputId": "3ce6f955-dab1-46a4-bb7e-d703041dc639"
      },
      "execution_count": 10,
      "outputs": [
        {
          "output_type": "display_data",
          "data": {
            "text/plain": [
              "<Figure size 640x480 with 1 Axes>"
            ],
            "image/png": "[encoded data removed]"
          },
          "metadata": {}
        }
      ]
    }
  ]
}